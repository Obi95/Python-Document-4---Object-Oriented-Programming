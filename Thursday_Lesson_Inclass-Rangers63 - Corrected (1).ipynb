{
 "cells": [
  {
   "cell_type": "markdown",
   "metadata": {},
   "source": [
    "# Object-Oriented-Programming (OOP)"
   ]
  },
  {
   "cell_type": "markdown",
   "metadata": {},
   "source": [
    "## Tasks Today:\n",
    "\n",
    "   \n",
    "\n",
    "1) <b>Creating a Class (Initializing/Declaring)</b> <br>\n",
    "2) <b>Using a Class (Instantiating)</b> <br>\n",
    " &nbsp;&nbsp;&nbsp;&nbsp; a) Creating One Instance <br>\n",
    " &nbsp;&nbsp;&nbsp;&nbsp; b) Creating Multiple Instances <br>\n",
    " &nbsp;&nbsp;&nbsp;&nbsp; c) In-Class Exercise #1 - Create a Class 'Car' and instantiate three different makes of cars <br>\n",
    "3) <b>The \\__init\\__() Method</b> <br>\n",
    " &nbsp;&nbsp;&nbsp;&nbsp; a) The 'self' Attribute <br>\n",
    "4) <b>Class Attributes</b> <br>\n",
    " &nbsp;&nbsp;&nbsp;&nbsp; a) Initializing Attributes <br>\n",
    " &nbsp;&nbsp;&nbsp;&nbsp; b) Setting an Attribute Outside of the \\__init\\__() Method <br>\n",
    " &nbsp;&nbsp;&nbsp;&nbsp; c) Setting Defaults for Attributes <br>\n",
    " &nbsp;&nbsp;&nbsp;&nbsp; d) Accessing Class Attributes <br>\n",
    " &nbsp;&nbsp;&nbsp;&nbsp; e) Changing Class Attributes <br>\n",
    " &nbsp;&nbsp;&nbsp;&nbsp; f) In-Class Exercise #2 - Add a color and wheels attribute to your 'Car' class <br>\n",
    "5) <b>Class Methods</b> <br>\n",
    " &nbsp;&nbsp;&nbsp;&nbsp; a) Creating <br>\n",
    " &nbsp;&nbsp;&nbsp;&nbsp; b) Calling <br>\n",
    " &nbsp;&nbsp;&nbsp;&nbsp; c) Modifying an Attribute's Value Through a Method <br>\n",
    " &nbsp;&nbsp;&nbsp;&nbsp; d) Incrementing an Attribute's Value Through a Method <br>\n",
    " &nbsp;&nbsp;&nbsp;&nbsp; e) In-Class Exercise #3 - Add a method that prints the cars color and wheel number, then call them <br>\n",
    "6) <b>Inheritance</b> <br>\n",
    " &nbsp;&nbsp;&nbsp;&nbsp; a) Syntax for Inheriting from a Parent Class <br>\n",
    " &nbsp;&nbsp;&nbsp;&nbsp; b) The \\__init\\__() Method for a Child Class (super()) <br>\n",
    " &nbsp;&nbsp;&nbsp;&nbsp; c) Defining Attributes and Methods for the Child Class <br>\n",
    " &nbsp;&nbsp;&nbsp;&nbsp; d) Method Overriding <br>\n",
    " &nbsp;&nbsp;&nbsp;&nbsp; e) In-Class Exercise #4 - Create a class 'Ford' that inherits from 'Car' class and initialize it as a Blue Ford Explorer with 4 wheels using the super() method <br>\n",
    "7) <b>Classes as Attributes</b> <br>\n",
    "8) <b>Exercises</b> <br>\n",
    " &nbsp;&nbsp;&nbsp;&nbsp; a) Exercise #1 - Turn the shopping cart program from yesterday into an object-oriented program <br>"
   ]
  },
  {
   "cell_type": "markdown",
   "metadata": {},
   "source": [
    "## Creating a Class (Initializing/Declaring)\n",
    "<p>When creating a class, function, or even a variable you are initializing that object. Initializing and Declaring occur at the same time in Python, whereas in lower level languages you have to declare an object before initializing it. This is the first step in the process of using a class.</p>"
   ]
  },
  {
   "cell_type": "code",
   "execution_count": 4,
   "metadata": {},
   "outputs": [],
   "source": [
    "class Car():\n",
    "    wheels = 4\n",
    "    color = 'blue'"
   ]
  },
  {
   "cell_type": "markdown",
   "metadata": {},
   "source": [
    "## Using a Class (Instantiating)\n",
    "<p>The process of creating a class is called <i>Instantiating</i>. Each time you create a variable of that type of class, it is referred to as an <i>Instance</i> of that class. This is the second step in the process of using a class.</p>"
   ]
  },
  {
   "cell_type": "markdown",
   "metadata": {},
   "source": [
    "##### Creating One Instance"
   ]
  },
  {
   "cell_type": "code",
   "execution_count": null,
   "metadata": {},
   "outputs": [],
   "source": [
    "def __init__(self, make, model, year):\n",
    "        self.make = make\n",
    "        self.model = model\n",
    "        self.year = year"
   ]
  },
  {
   "cell_type": "markdown",
   "metadata": {},
   "source": [
    "##### Creating Multiple Instances"
   ]
  },
  {
   "cell_type": "code",
   "execution_count": null,
   "metadata": {},
   "outputs": [],
   "source": [
    "def display_details(self):\n",
    "        return f\"{self.year} {self.make} {self.model}, {self.color} color, with {self.wheels} wheels.\"\n",
    "    \n",
    "    def change_color(self, new_color):\n",
    "        self.color = new_color"
   ]
  },
  {
   "cell_type": "markdown",
   "metadata": {},
   "source": [
    "##### In-Class Exercise #1 - Create a Class 'Car' and Instantiate three different makes of cars"
   ]
  },
  {
   "cell_type": "code",
   "execution_count": null,
   "metadata": {},
   "outputs": [],
   "source": [
    "class Car:\n",
    "    def __init__(self, make, model, year):\n",
    "        self.make = make\n",
    "        self.model = model\n",
    "        self.year = year\n",
    "\n",
    "    def display_details(self):\n",
    "        return f\"{self.year} {self.make} {self.model}\"\n",
    "\n",
    "    car1 = Car(\"Toyota\", \"Corolla\", 2020)\n",
    "car2 = Car(\"Honda\", \"Civic\", 2019)\n",
    "car3 = Car(\"Ford\", \"Mustang\", 2021)\n",
    "\n",
    "\n",
    "print(car1.display_details())\n",
    "print(car2.display_details())\n",
    "print(car3.display_details())"
   ]
  },
  {
   "cell_type": "markdown",
   "metadata": {},
   "source": [
    "## The \\__init\\__() Method <br>\n",
    "<p>This method is used in almost every created class, and called only once upon the creation of the class instance. This method will initialize all variables needed for the object.</p>"
   ]
  },
  {
   "cell_type": "code",
   "execution_count": null,
   "metadata": {},
   "outputs": [],
   "source": [
    "class car:\n",
    "    def __init__(self, make, model, year):\n",
    "        self.make = make    \n",
    "        self.model = model  \n",
    "        self.year = year   "
   ]
  },
  {
   "cell_type": "markdown",
   "metadata": {},
   "source": [
    "##### The 'self' Attribute <br>\n",
    "<p>This attribute is required to keep track of specific instance's attributes. Without the self attribute, the program would not know how to reference or keep track of an instance's attributes.</p>"
   ]
  },
  {
   "cell_type": "code",
   "execution_count": null,
   "metadata": {},
   "outputs": [],
   "source": [
    "# see above\n",
    "\n",
    "# Understanding self is fundamental to effectively working with classes and instances in Python. It ensures that you \n",
    "# can maintain and manipulate the state of individual objects (instances) of a class\n",
    "\n",
    "\n"
   ]
  },
  {
   "cell_type": "markdown",
   "metadata": {},
   "source": [
    "## Class Attributes <br>\n",
    "<p>While variables are inside of a class, they are referred to as attributes and not variables. When someone says 'attribute' you know they're speaking about a class. Attributes can be initialized through the init method, or outside of it.</p>"
   ]
  },
  {
   "cell_type": "markdown",
   "metadata": {},
   "source": [
    "##### Initializing Attributes"
   ]
  },
  {
   "cell_type": "code",
   "execution_count": null,
   "metadata": {},
   "outputs": [],
   "source": [
    "class Car:\n",
    "    wheels = 4\n",
    "    def __init__(self, make, model, year):\n",
    "        self.make = make\n",
    "        self.model = model\n",
    "        self.year = year\n",
    "\n",
    "    def display_details(self):\n",
    "        return f\"{self.year} {self.make} {self.model}, {self.wheels} wheels\""
   ]
  },
  {
   "cell_type": "markdown",
   "metadata": {},
   "source": [
    "##### Accessing Class Attributes"
   ]
  },
  {
   "cell_type": "code",
   "execution_count": null,
   "metadata": {
    "scrolled": true
   },
   "outputs": [],
   "source": [
    "# See Above\n",
    "\n",
    "print(car1.display_details())"
   ]
  },
  {
   "cell_type": "markdown",
   "metadata": {},
   "source": [
    "##### Setting Defaults for Attributes"
   ]
  },
  {
   "cell_type": "code",
   "execution_count": null,
   "metadata": {},
   "outputs": [],
   "source": [
    "car1 = Car()\n",
    "car2 = Car(\"Toyota\", \"Corolla\", 2020)"
   ]
  },
  {
   "cell_type": "markdown",
   "metadata": {},
   "source": [
    "##### Changing Class Attributes <br>\n",
    "<p>Keep in mind there are global class attributes and then there are attributes only available to each class instance which won't effect other classes.</p>"
   ]
  },
  {
   "cell_type": "code",
   "execution_count": null,
   "metadata": {},
   "outputs": [],
   "source": [
    "Car.wheels = 6"
   ]
  },
  {
   "cell_type": "code",
   "execution_count": null,
   "metadata": {},
   "outputs": [],
   "source": [
    "class Car:\n",
    "    wheels = 4\n",
    "\n",
    "    def __init__(self, make, model, year):\n",
    "        # Instance attributes initialized through __init__\n",
    "        self.make = make\n",
    "        self.model = model\n",
    "        self.year = year\n",
    "\n",
    "    def display_details(self):\n",
    "        return f\"{self.year} {self.make} {self.model}, {self.wheels} wheels\"\n",
    "\n",
    "car1 = Car(\"Toyota\", \"Corolla\", 2020)\n",
    "car2 = Car(\"Honda\", \"Civic\", 2019)\n",
    "\n",
    "print(f\"Number of wheels defined in the class: {Car.wheels}\")\n",
    "# Output: Number of wheels defined in the class: 4\n",
    "\n",
    "# Changing class attribute through class name\n",
    "Car.wheels = 6\n",
    "\n",
    "print(car1.display_details())\n",
    "print(car2.display_details())\n",
    "\n"
   ]
  },
  {
   "cell_type": "markdown",
   "metadata": {},
   "source": [
    "##### In-Class Exercise #2 - Add a doors and seats attribute to your 'Car' class then print out two different instances with different doors and seats"
   ]
  },
  {
   "cell_type": "code",
   "execution_count": null,
   "metadata": {},
   "outputs": [],
   "source": [
    "class Car:\n",
    "    def __init__(self, make, model, year, doors, seats):\n",
    "        self.make = make\n",
    "        self.model = model\n",
    "        self.year = year\n",
    "        self.doors = doors  # Adding doors as an instance attribute\n",
    "        self.seats = seats  # Adding seats as an instance attribute\n",
    "\n",
    "    def display_details(self):\n",
    "        return f\"{self.year} {self.make} {self.model}, {self.doors} doors, {self.seats} seats\"\n",
    "car1 = Car(\"Toyota\", \"Corolla\", 2020, doors=4, seats=5)\n",
    "car2 = Car(\"Honda\", \"Civic\", 2019, doors=2, seats=4)\n",
    "\n",
    "\n",
    "print(car1.display_details())\n",
    "print(car2.display_details())\n"
   ]
  },
  {
   "cell_type": "markdown",
   "metadata": {},
   "source": [
    "## Class Methods <br>\n",
    "<p>While inside of a class, functions are referred to as 'methods'. If you hear someone mention methods, they're speaking about classes. Methods are essentially functions, but only callable on the instances of a class.</p>"
   ]
  },
  {
   "cell_type": "markdown",
   "metadata": {},
   "source": [
    "##### Creating"
   ]
  },
  {
   "cell_type": "code",
   "execution_count": null,
   "metadata": {},
   "outputs": [],
   "source": [
    "car1 = Car(\"Toyota\", \"Corolla\", 2020)\n",
    "car2 = Car(\"Honda\", \"Civic\", 2019)"
   ]
  },
  {
   "cell_type": "markdown",
   "metadata": {},
   "source": [
    "##### Calling"
   ]
  },
  {
   "cell_type": "code",
   "execution_count": null,
   "metadata": {},
   "outputs": [],
   "source": [
    "# See Above\n",
    "print(Car.display_num_cars())"
   ]
  },
  {
   "cell_type": "markdown",
   "metadata": {},
   "source": [
    "##### Modifying an Attribute's Value Through a Method"
   ]
  },
  {
   "cell_type": "code",
   "execution_count": null,
   "metadata": {},
   "outputs": [],
   "source": [
    "class Car:\n",
    "    def __init__(self, make, model, year, mileage=0):\n",
    "        self.make = make\n",
    "        self.model = model\n",
    "        self.year = year\n",
    "        self.mileage = mileage \n",
    "\n",
    "    def display_details(self):\n",
    "        return f\"{self.year} {self.make} {self.model}, Mileage: {self.mileage}\"\n",
    "\n",
    "    def drive(self, miles):\n",
    "        self.mileage += miles\n",
    "        return f\"{self.make} {self.model} drove {miles} miles. New Mileage: {self.mileage}\"\n",
    "\n",
    "car1 = Car(\"Toyota\", \"Corolla\", 2020)\n",
    "\n",
    "print(car1.display_details()) \n",
    "\n",
    "print(car1.drive(100)\n",
    "print(car1.drive(50))  \n",
    "\n",
    "print(car1.display_details())\n"
   ]
  },
  {
   "cell_type": "markdown",
   "metadata": {},
   "source": [
    "##### Incrementing an Attribute's Value Through a Method"
   ]
  },
  {
   "cell_type": "code",
   "execution_count": null,
   "metadata": {},
   "outputs": [],
   "source": [
    "class Car:\n",
    "    def __init__(self, make, model, year, mileage=0):\n",
    "        self.make = make\n",
    "        self.model = model\n",
    "        self.year = year\n",
    "        self.mileage = mileage\n",
    "    def display_details(self):\n",
    "        return f\"{self.year} {self.make} {self.model}, Mileage: {self.mileage}\"\n",
    "\n",
    "    def drive(self, miles):\n",
    "        self.mileage += miles\n",
    "\n",
    "    def service(self):\n",
    "        self.mileage = 0\n",
    "        return f\"{self.make} {self.model} has been serviced. Resetting mileage to 0.\"\n",
    "\n",
    "car1 = Car(\"Toyota\", \"Corolla\", 2020)\n",
    "\n",
    "print(car1.display_details()) \n",
    "\n",
    "car1.drive(100)\n",
    "print(car1.display_details())\n",
    "\n",
    "car1.drive(50)\n",
    "print(car1.display_details()) \n",
    "print(car1.service())  \n",
    "print(car1.display_details())  "
   ]
  },
  {
   "cell_type": "markdown",
   "metadata": {},
   "source": [
    "##### In-Class Exercise #3 - Add a method that takes in three parameters of year, doors and seats and prints out a formatted print statement with make, model, year, seats, and doors"
   ]
  },
  {
   "cell_type": "code",
   "execution_count": null,
   "metadata": {},
   "outputs": [],
   "source": [
    "# Create class with 2 paramters inside of the __init__ which are make and model\n",
    "\n",
    "# Inside of the Car class create a method that has 4 parameter in total (self,year,door,seats)\n",
    "\n",
    "# Output: This car is from 2019 and is a Ford Expolorer and has 4 doors and 5 seats\n",
    "\n",
    "class Car:\n",
    "    def __init__(self, make, model):\n",
    "        self.make = make\n",
    "        self.model = model\n",
    "\n",
    "    def car_details(self, year, doors, seats):\n",
    "        print(f\"This car is from {year} and is a {self.make} {self.model} and has {doors} doors and {seats} seats.\")\n",
    "\n",
    "car1 = Car(\"Ford\", \"Explorer\")\n",
    "car1.car_details(2019, 4, 5)\n",
    "\n",
    "\n"
   ]
  },
  {
   "cell_type": "markdown",
   "metadata": {},
   "source": [
    "## Inheritance <br>\n",
    "<p>You can create a child-parent relationship between two classes by using inheritance. What this allows you to do is have overriding methods, but also inherit traits from the parent class. Think of it as an actual parent and child, the child will inherit the parent's genes, as will the classes in OOP</p>"
   ]
  },
  {
   "cell_type": "markdown",
   "metadata": {},
   "source": [
    "##### Syntax for Inheriting from a Parent Class"
   ]
  },
  {
   "cell_type": "code",
   "execution_count": null,
   "metadata": {},
   "outputs": [],
   "source": [
    "class ParentClass:\n",
    "    pass\n",
    "\n",
    "class ChildClass(ParentClass):\n",
    "    pass"
   ]
  },
  {
   "cell_type": "markdown",
   "metadata": {},
   "source": [
    "##### The \\__init\\__() Method for a Child Class - super()"
   ]
  },
  {
   "cell_type": "code",
   "execution_count": null,
   "metadata": {
    "scrolled": true
   },
   "outputs": [],
   "source": [
    "class Car:\n",
    "    def __init__(self, make, model, year):\n",
    "        self.make = make\n",
    "        self.model = model\n",
    "        self.year = year\n",
    "\n",
    "    def display_details(self):\n",
    "        return f\"{self.year} {self.make} {self.model}\"\n",
    "\n",
    "class ElectricCar(Car):\n",
    "    def __init__(self, make, model, year, battery_size):\n",
    "        super().__init__(make, model, year)  \n",
    "        self.battery_size = battery_size    \n",
    "\n",
    "    def display_details(self):\n",
    "        parent_details = super().display_details() \n",
    "        return f\"{parent_details}, Battery Size: {self.battery_size} kWh\"\n",
    "\n",
    "\n",
    "car1 = Car(\"Toyota\", \"Corolla\", 2020)\n",
    "print(car1.display_details())  \n",
    "electric_car1 = ElectricCar(\"Tesla\", \"Model S\", 2022, 100)\n",
    "print(electric_car1.display_details()) \n"
   ]
  },
  {
   "cell_type": "markdown",
   "metadata": {},
   "source": [
    "##### Defining Attributes and Methods for the Child Class"
   ]
  },
  {
   "cell_type": "code",
   "execution_count": null,
   "metadata": {},
   "outputs": [],
   "source": [
    "# See Above"
   ]
  },
  {
   "cell_type": "markdown",
   "metadata": {},
   "source": [
    "##### Method Overriding"
   ]
  },
  {
   "cell_type": "code",
   "execution_count": null,
   "metadata": {},
   "outputs": [],
   "source": [
    "# See Above"
   ]
  },
  {
   "cell_type": "markdown",
   "metadata": {},
   "source": [
    "## Classes as Attributes <br>\n",
    "<p>Classes can also be used as attributes within another class. This is useful in situations where you need to keep variables locally stored, instead of globally stored.</p>"
   ]
  },
  {
   "cell_type": "code",
   "execution_count": null,
   "metadata": {},
   "outputs": [],
   "source": [
    "class Battery:\n",
    "    def __init__(self, size=70):\n",
    "        self.size = size\n",
    "\n",
    "    def get_range(self):\n",
    "        if self.size == 70:\n",
    "            range = 240\n",
    "        elif self.size == 85:\n",
    "            range = 300\n",
    "        return f\"This car can go approximately {range} miles on a full charge.\"\n",
    "    \n",
    "    \n",
    " # Battery is a class attribute\n",
    "class ElectricCar:\n",
    "    def __init__(self, make, model, year, battery_size=70):\n",
    "        self.make = make\n",
    "        self.model = model\n",
    "        self.year = year\n",
    "        self.battery = Battery(battery_size) \n",
    "\n",
    "    def display_details(self):\n",
    "        return f\"{self.year} {self.make} {self.model}\"\n",
    "\n",
    "    def display_battery_info(self):\n",
    "        return f\"{self.make} {self.model} has a {self.battery.size}-kWh battery.\"\n",
    "\n",
    "    def display_range(self):\n",
    "        return self.battery.get_range()\n",
    "\n",
    "\n",
    "electric_car1 = ElectricCar(\"Tesla\", \"Model S\", 2022, 85)\n",
    "print(electric_car1.display_details())  # Output: 2022 Tesla Model S\n",
    "print(electric_car1.display_battery_info())  # Output: Tesla Model S has a 85-kWh battery.\n",
    "print(electric_car1.display_range())  # Output: This car can go approximately 300 miles on a full charge.\n"
   ]
  },
  {
   "cell_type": "markdown",
   "metadata": {},
   "source": [
    "# Exercises"
   ]
  },
  {
   "cell_type": "markdown",
   "metadata": {},
   "source": [
    "### Exercise 1 - Turn the shopping cart program from yesterday into an object-oriented program\n",
    "\n",
    "The comments in the cell below are there as a guide for thinking about the problem. However, if you feel a different way is best for you and your own thought process, please do what feels best for you by all means."
   ]
  },
  {
   "cell_type": "code",
   "execution_count": null,
   "metadata": {},
   "outputs": [],
   "source": [
    "# Create a class called cart that retains items and has methods to add, remove, and show\n",
    "\n",
    "class Shopping_Cart:\n",
    "    def __init__(self):\n",
    "        self.cart_items = []\n",
    "\n",
    "    def add_item(self, item):\n",
    "        self.cart_items.append(item)\n",
    "        print(f\"{item} has been added\")\n",
    "\n",
    "    def view_list(self):\n",
    "        print(\"Shopping Cart:\")\n",
    "        for item in self.cart_items:\n",
    "            print(item)\n",
    "\n",
    "    def remove_item(self, item):\n",
    "        if item in self.cart_items:\n",
    "            self.cart_items.remove(item)\n",
    "            print(f'The item {item} has been removed.')\n",
    "        else:\n",
    "            print(f'{item} is not in your cart.')\n",
    "\n",
    "    def empty_cart(self):\n",
    "        self.cart_items.clear()\n",
    "        print('Your cart has been emptied.')\n",
    "\n",
    "Omars_cart = Shopping_Cart()\n",
    "Omars_cart.add_item(\"Nongshim Noodles\")\n",
    "Omars_cart.add_item(\"Water\")\n",
    "Omars_cart.remove_item(\"Water\")\n",
    "Omars_cart.view_list()\n",
    "    "
   ]
  },
  {
   "cell_type": "markdown",
   "metadata": {},
   "source": [
    "### Exercise 2 - Write a Python class which has two methods get_String and print_String. get_String accept a string from the user and print_String print the string in upper case"
   ]
  },
  {
   "cell_type": "code",
   "execution_count": null,
   "metadata": {},
   "outputs": [],
   "source": [
    "class MyString:\n",
    "    def __init__(self):\n",
    "        self.s = ''\n",
    "\n",
    "    def get_String(self, s):\n",
    "        self.s = s\n",
    "\n",
    "    def print_String(self):\n",
    "        print(self.s.upper())\n"
   ]
  }
 ],
 "metadata": {
  "kernelspec": {
   "display_name": "Python 3 (ipykernel)",
   "language": "python",
   "name": "python3"
  },
  "language_info": {
   "codemirror_mode": {
    "name": "ipython",
    "version": 3
   },
   "file_extension": ".py",
   "mimetype": "text/x-python",
   "name": "python",
   "nbconvert_exporter": "python",
   "pygments_lexer": "ipython3",
   "version": "3.11.5"
  }
 },
 "nbformat": 4,
 "nbformat_minor": 2
}
